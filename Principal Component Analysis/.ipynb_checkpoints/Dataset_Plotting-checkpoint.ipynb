{
 "cells": [
  {
   "cell_type": "markdown",
   "metadata": {
    "id": "-4kXuzBqLvMG"
   },
   "source": [
    "The following code helps you to load and visualize the data (skeleton) in 3D xyz coordinates.\n",
    " "
   ]
  },
  {
   "cell_type": "code",
   "execution_count": 13,
   "metadata": {},
   "outputs": [
    {
     "name": "stdout",
     "output_type": "stream",
     "text": [
      "(38, 3, 100)\n"
     ]
    }
   ],
   "source": [
    "import numpy as np\n",
    "from mpl_toolkits import mplot3d\n",
    "import matplotlib.pyplot as plt\n",
    "import matplotlib.animation as animation\n",
    "import os\n",
    "plt.style.use('seaborn-poster')\n",
    "\n",
    "#filename and folder to plot\n",
    "fname= \"walking_1\"\n",
    "folder = \"hw2datanpy/train/\"\n",
    "\n",
    "vals = np.load(folder+fname+\".npy\")\n",
    "xyz = np.reshape( vals[:,:], (38,3,-1) )\n",
    "\n",
    "\n",
    "print(xyz.shape)\n",
    "\n",
    "#define the root joint and scaling of the values\n",
    "r = 1000\n",
    "xroot, yroot, zroot = xyz[0,0,0], xyz[0,0,1], xyz[0,0,2]\n",
    "\n",
    "#define the connections between the joints (skeleton) \n",
    "I = np.array(\n",
    "        [1, 2, 3, 4, 5, 6, 1, 8, 9, 10, 11, 12, 1, 14, 15, 16, 17, 18, 19, 16, 21, 22, 23, 25, 26, 24, 28, 16, 30, 31,\n",
    "         32, 33, 34, 35, 33, 37]) - 1\n",
    "J = np.array(\n",
    "        [2, 3, 4, 5, 6, 7, 8, 9, 10, 11, 12, 13, 14, 15, 16, 17, 18, 19, 20, 21, 22, 23, 24, 26, 27, 28, 29, 30, 31, 32,\n",
    "         33, 34, 35, 36, 37, 38]) - 1\n"
   ]
  },
  {
   "cell_type": "code",
   "execution_count": 18,
   "metadata": {},
   "outputs": [],
   "source": [
    "# plot the skeleton accroding to joints (each plot is png image in anim folder)\n",
    "\n",
    "for tind in range(1,xyz.shape[2]):\n",
    "    \n",
    "    fig = plt.figure(figsize = (10,10))\n",
    "    ax = plt.axes(projection='3d')\n",
    "    for ijind in range(0,I.shape[0]):\n",
    "        xline = np.array([xyz[I[ijind],0,tind], xyz[J[ijind],0,tind]])\n",
    "        yline = np.array([xyz[I[ijind],1,tind], xyz[J[ijind],1,tind]])\n",
    "        zline = np.array([xyz[I[ijind],2,tind], xyz[J[ijind],2,tind]])\n",
    "        # use plot if you'd like to plot skeleton with lines\n",
    "        ax.plot(xline,yline,zline)\n",
    "    \n",
    "    # use scatter if you'd like to plot all points without lines \n",
    "    # ax.scatter(xyz[:,0,tind],xyz[:,1,tind],xyz[:,2,tind], c = 'r', s = 50)   \n",
    "\n",
    "    ax.set_xlim([-r+xroot, r+xroot])\n",
    "    ax.set_zlim([-r+zroot, r+zroot])\n",
    "    ax.set_ylim([-r+yroot, r+yroot])\n",
    "    \n",
    "    plt.savefig('anim/'+f\"{tind}.png\")\n",
    "    plt.close()\n",
    "\n",
    "# when plotting a single sample (the skeleton can simply be plotted without saving an image)\n",
    "#     plt.draw()\n",
    "#     plt.pause(.001)\n",
    "#     plt.show()\n",
    "\n",
    " \n",
    "    \n",
    "# save the animated plot as a gif in anim folder \n",
    "from PIL import Image\n",
    "\n",
    "images = [Image.open('anim/'+f\"{n}.png\") for n in range(1,xyz.shape[2])]\n",
    "images[0].save('anim/'+fname+'.gif', save_all=True, append_images=images[1:], duration=30, loop=0) \n",
    "\n",
    "# remove ploted png images\n",
    "for n in range(1,xyz.shape[2]):\n",
    "    os.remove('anim/'+f\"{n}.png\")\n",
    "\n",
    "\n",
    "\n"
   ]
  },
  {
   "cell_type": "code",
   "execution_count": null,
   "metadata": {},
   "outputs": [],
   "source": []
  }
 ],
 "metadata": {
  "colab": {
   "collapsed_sections": [],
   "name": "HW1-Helper.ipynb",
   "provenance": []
  },
  "kernelspec": {
   "display_name": "Python 3 (ipykernel)",
   "language": "python",
   "name": "python3"
  },
  "language_info": {
   "codemirror_mode": {
    "name": "ipython",
    "version": 3
   },
   "file_extension": ".py",
   "mimetype": "text/x-python",
   "name": "python",
   "nbconvert_exporter": "python",
   "pygments_lexer": "ipython3",
   "version": "3.10.9"
  }
 },
 "nbformat": 4,
 "nbformat_minor": 1
}
