{
 "cells": [
  {
   "cell_type": "markdown",
   "id": "de9351eb",
   "metadata": {},
   "source": [
    "# <span style='color:red'> Fully Connected Neural Network Example on Iris Classification - Cross Entropy Loss </span>\n",
    "# <span style='color:blue'> by Jimin Kim </span>"
   ]
  },
  {
   "cell_type": "code",
   "execution_count": 1,
   "id": "80e1cc54",
   "metadata": {},
   "outputs": [],
   "source": [
    "%matplotlib inline\n",
    "\n",
    "import matplotlib.pyplot as plt\n",
    "import torch\n",
    "import numpy as np"
   ]
  },
  {
   "cell_type": "markdown",
   "id": "bc29c43d",
   "metadata": {},
   "source": [
    "# <span style='color:red'> Part 2: Additional Data Prep Methods ----------------------------------------------------------</span>"
   ]
  },
  {
   "cell_type": "markdown",
   "id": "883d2e7f",
   "metadata": {},
   "source": [
    "### 2.1 - One-hot Encoding"
   ]
  },
  {
   "cell_type": "code",
   "execution_count": 2,
   "id": "79dc9787",
   "metadata": {},
   "outputs": [
    {
     "name": "stdout",
     "output_type": "stream",
     "text": [
      "tensor([0, 1, 2])\n"
     ]
    }
   ],
   "source": [
    "# Each integer corresponding to a label\n",
    "\n",
    "labels = torch.tensor([0,1,2]) \n",
    "print(labels)"
   ]
  },
  {
   "cell_type": "code",
   "execution_count": 3,
   "id": "da40850d",
   "metadata": {
    "scrolled": true
   },
   "outputs": [
    {
     "name": "stdout",
     "output_type": "stream",
     "text": [
      "tensor([[1, 0, 0],\n",
      "        [0, 1, 0],\n",
      "        [0, 0, 1]])\n"
     ]
    }
   ],
   "source": [
    "# Using torch.nn.functional.one_hot() to convert the integer labels to one-hot encoding\n",
    "\n",
    "labels_one_hot = torch.nn.functional.one_hot(labels) \n",
    "print(labels_one_hot)"
   ]
  },
  {
   "cell_type": "markdown",
   "id": "3548f800",
   "metadata": {},
   "source": [
    "# <span style='color:red'> Part 5: Training FCN (Iris Classification example) -------------------------------------------</span>"
   ]
  },
  {
   "cell_type": "markdown",
   "id": "fdb58028",
   "metadata": {},
   "source": [
    "### Prepare Data"
   ]
  },
  {
   "cell_type": "code",
   "execution_count": 4,
   "id": "da7c2d82",
   "metadata": {},
   "outputs": [],
   "source": [
    "# Import necessary functions from scikit-learn library\n",
    "from sklearn.datasets import load_iris\n",
    "from sklearn.preprocessing import StandardScaler\n",
    "from sklearn.model_selection import train_test_split\n",
    "\n",
    "# iris dataset is available from scikit-learn package\n",
    "iris = load_iris()\n",
    "\n",
    "# Load the X (features) and y (targets) for training\n",
    "X = iris['data']\n",
    "y = iris['target']\n",
    "\n",
    "# Scale the input dataset X with standard scaling using scikit-learn\n",
    "scaler = StandardScaler()\n",
    "X_scaled = scaler.fit_transform(X)\n",
    "\n",
    "# Split the dataset with training (80%) and testing (20%) using train_test_split from scikit_learn\n",
    "X_train, X_test, y_train, y_test = train_test_split(X_scaled, y, \n",
    "                                                    test_size=0.2, \n",
    "                                                    random_state=2)\n",
    "\n",
    "# We will additionally split the training data into training and validation\n",
    "# The final split ratios are training: 60%, validation: 20% and testing 20%\n",
    "X_validation = X_train[:int(len(X_test))]\n",
    "y_validation = y_train[:int(len(X_test))]\n",
    "\n",
    "X_train = X_train[int(len(X_test)):]\n",
    "y_train = y_train[int(len(X_test)):]"
   ]
  },
  {
   "cell_type": "code",
   "execution_count": 5,
   "id": "332e28cf",
   "metadata": {},
   "outputs": [
    {
     "data": {
      "text/plain": [
       "(90, 4)"
      ]
     },
     "execution_count": 5,
     "metadata": {},
     "output_type": "execute_result"
    }
   ],
   "source": [
    "X_train.shape"
   ]
  },
  {
   "cell_type": "markdown",
   "id": "8f386fa9",
   "metadata": {},
   "source": [
    "### Define Model"
   ]
  },
  {
   "cell_type": "code",
   "execution_count": 6,
   "id": "8c07a3b8",
   "metadata": {},
   "outputs": [],
   "source": [
    "class irisClassificationFCN(torch.nn.Module):\n",
    "    \n",
    "    def __init__(self, input_dim, output_dim, hidden1_dim, hidden2_dim):# Add parameters for dimensions of 2 hidden layers \n",
    "        \n",
    "        super(irisClassificationFCN, self).__init__()\n",
    "        \n",
    "        self.layer1 = torch.nn.Linear(input_dim, hidden1_dim)    # Connections from input to hidden layer 1\n",
    "        self.layer2 = torch.nn.Linear(hidden1_dim, hidden2_dim)  # Connections from hidden layer 1 to hidden layer 2\n",
    "        self.layer3 = torch.nn.Linear(hidden2_dim, output_dim)   # Connections from hidden layer 2 to final output\n",
    "        \n",
    "    def forward(self, x):\n",
    "        \n",
    "        out1 = torch.nn.functional.relu(self.layer1(x))          # Apply relu activation to layer 1 output\n",
    "        out2 = torch.nn.functional.relu(self.layer2(out1))       # Apply relu activation to layer 2 output\n",
    "        # CrossEntropyLoss will apply the softmax by itself so you can use raw output. \n",
    "        # Here softmax is used just that you will be able to inspect the values and\n",
    "        # see that these correpond to probabilities\n",
    "        # output = torch.nn.functional.softmax(self.layer3(out2) , dim=1)    # Return raw layer 3 output\n",
    "        output = self.layer3(out2)    # Return raw layer 3 output\n",
    "        \n",
    "        return output"
   ]
  },
  {
   "cell_type": "markdown",
   "id": "efea6ec5",
   "metadata": {},
   "source": [
    "### Define Hyperparameters"
   ]
  },
  {
   "cell_type": "code",
   "execution_count": 7,
   "id": "52217171",
   "metadata": {},
   "outputs": [
    {
     "data": {
      "text/plain": [
       "irisClassificationFCN(\n",
       "  (layer1): Linear(in_features=4, out_features=30, bias=True)\n",
       "  (layer2): Linear(in_features=30, out_features=10, bias=True)\n",
       "  (layer3): Linear(in_features=10, out_features=3, bias=True)\n",
       ")"
      ]
     },
     "execution_count": 7,
     "metadata": {},
     "output_type": "execute_result"
    }
   ],
   "source": [
    "# Initialize our neural network model with input, output and hidden layer dimensions\n",
    "model = irisClassificationFCN(input_dim = 4, output_dim = 3, hidden1_dim = 30, hidden2_dim = 10)\n",
    "\n",
    "# Define the learning rate and epoch\n",
    "# learning_rate = 0.025\n",
    "learning_rate = 0.3\n",
    "# epochs = 80\n",
    "\n",
    "epochs = 180\n",
    "\n",
    "\n",
    "# Define loss function (CrossEntropyLoss) and optimizer (Adam)\n",
    "loss_func = torch.nn.CrossEntropyLoss() # Using cross entropy loss since we are outputing probabilities\n",
    "# optimizer = torch.optim.Adam(model.parameters(), lr = learning_rate) # Using Adam for more effective optimization\n",
    "\n",
    "optimizer = torch.optim.SGD(model.parameters(), lr=learning_rate)\n",
    "\n",
    "model"
   ]
  },
  {
   "cell_type": "markdown",
   "id": "528d88d0",
   "metadata": {},
   "source": [
    "### Identify Tracked Values"
   ]
  },
  {
   "cell_type": "code",
   "execution_count": 8,
   "id": "b427c35f",
   "metadata": {
    "scrolled": true
   },
   "outputs": [],
   "source": [
    "# Placeholders for training loss and validation accuracy during training\n",
    "\n",
    "train_loss_list = np.zeros((epochs,))\n",
    "validation_accuracy_list = np.zeros((epochs,))"
   ]
  },
  {
   "cell_type": "code",
   "execution_count": 9,
   "id": "8416e884",
   "metadata": {},
   "outputs": [
    {
     "data": {
      "text/plain": [
       "(90, 4)"
      ]
     },
     "execution_count": 9,
     "metadata": {},
     "output_type": "execute_result"
    }
   ],
   "source": [
    "X_train.shape"
   ]
  },
  {
   "cell_type": "markdown",
   "id": "3891f4a5",
   "metadata": {},
   "source": [
    "### Train Model"
   ]
  },
  {
   "cell_type": "code",
   "execution_count": 10,
   "id": "26b1a774",
   "metadata": {},
   "outputs": [
    {
     "name": "stderr",
     "output_type": "stream",
     "text": [
      "100%|███████████████████████████████████████████████████████████████████| 180/180 [00:00<00:00, 745.89it/s]\n"
     ]
    }
   ],
   "source": [
    "import tqdm # For keeping track of our training progress in percentage\n",
    "\n",
    "# Convert the training, validation, testing dataset (NumPy arrays) into torch tensors\n",
    "\n",
    "train_inputs = torch.from_numpy(X_train).float()\n",
    "train_targets = torch.from_numpy(y_train).long() # Convert to 64-bit integer\n",
    "\n",
    "\n",
    "\n",
    "validation_inputs = torch.from_numpy(X_validation).float()\n",
    "validation_targets = torch.from_numpy(y_validation).long()\n",
    "\n",
    "testing_inputs = torch.from_numpy(X_test).float()\n",
    "testing_targets = torch.from_numpy(y_test).long()\n",
    "\n",
    "# Training Loop ---------------------------------------------------------------------------------------\n",
    "\n",
    "for epoch in tqdm.trange(epochs):\n",
    "    \n",
    "    optimizer.zero_grad()\n",
    "    \n",
    "    train_outputs = model(train_inputs)\n",
    "#     print(train_outputs)    \n",
    "    \n",
    "    loss = loss_func(train_outputs, train_targets)\n",
    "    \n",
    "    train_loss_list[epoch] = loss.item()\n",
    "    \n",
    "    loss.backward()\n",
    "    \n",
    "    optimizer.step()\n",
    "    \n",
    "    # Compute Validation Accuracy ----------------------------------------------------------------------\n",
    "    \n",
    "    with torch.no_grad(): # Telling PyTorch we aren't passing inputs to network for training purpose\n",
    "        \n",
    "        # Pass the validation feature data (30 samples) to the network\n",
    "        validation_outputs = model(validation_inputs)\n",
    "        \n",
    "        # validation_outputs = tensor of shape (30, 3), i.e., 30 predictions and each prediction has 3 probabilities.\n",
    "        # These are classification probabilities for each flower type: [p(setosa), p(versicolor), p(virginica)].\n",
    "        # torch.argmax(validation_outputs, dim=1) finds the index with the maximum value alongside the column direction\n",
    "        # i.e. for each sample, it finds the column index with the highest probability.\n",
    "        # == validation_targets compares these indices with groundtruth validation target labels for each sample\n",
    "        # For each sample, it returns True if the index matches the target, False otherwise\n",
    "        # .type(torch.FloatTensor) converts True = 1, False = 0\n",
    "        # Finally .mean() gives us (Total count of 1) / (Length of the 1D tensor), giving us the classification accuracy  \n",
    "        \n",
    "        correct = (torch.argmax(validation_outputs, dim=1) == \n",
    "                   validation_targets).type(torch.FloatTensor)\n",
    "        \n",
    "        validation_accuracy_list[epoch] = correct.mean()"
   ]
  },
  {
   "cell_type": "markdown",
   "id": "377b80ad",
   "metadata": {},
   "source": [
    "### Visualize and Evaluate Model"
   ]
  },
  {
   "cell_type": "code",
   "execution_count": 11,
   "id": "4f5621a4",
   "metadata": {},
   "outputs": [
    {
     "name": "stdout",
     "output_type": "stream",
     "text": [
      "[0.06666667 0.1        0.46666667 0.60000002 0.66666669 0.73333335\n",
      " 0.73333335 0.73333335 0.73333335 0.73333335 0.73333335 0.73333335\n",
      " 0.73333335 0.73333335 0.76666665 0.76666665 0.76666665 0.76666665\n",
      " 0.76666665 0.76666665 0.76666665 0.76666665 0.76666665 0.76666665\n",
      " 0.80000001 0.80000001 0.80000001 0.80000001 0.80000001 0.80000001\n",
      " 0.80000001 0.80000001 0.83333331 0.83333331 0.86666667 0.86666667\n",
      " 0.89999998 0.86666667 0.86666667 0.86666667 0.89999998 0.93333334\n",
      " 0.93333334 0.93333334 0.89999998 0.89999998 0.89999998 0.89999998\n",
      " 0.89999998 0.89999998 0.93333334 0.93333334 0.93333334 0.89999998\n",
      " 0.89999998 0.89999998 0.89999998 0.89999998 0.89999998 0.89999998\n",
      " 0.89999998 0.89999998 0.89999998 0.89999998 0.89999998 0.89999998\n",
      " 0.89999998 0.89999998 0.89999998 0.89999998 0.89999998 0.89999998\n",
      " 0.89999998 0.89999998 0.89999998 0.89999998 0.89999998 0.89999998\n",
      " 0.89999998 0.89999998 0.89999998 0.89999998 0.89999998 0.89999998\n",
      " 0.89999998 0.89999998 0.89999998 0.89999998 0.89999998 0.89999998\n",
      " 0.89999998 0.89999998 0.89999998 0.89999998 0.89999998 0.89999998\n",
      " 0.89999998 0.89999998 0.89999998 0.89999998 0.89999998 0.89999998\n",
      " 0.89999998 0.89999998 0.89999998 0.89999998 0.89999998 0.89999998\n",
      " 0.89999998 0.89999998 0.89999998 0.89999998 0.89999998 0.89999998\n",
      " 0.89999998 0.89999998 0.89999998 0.89999998 0.89999998 0.89999998\n",
      " 0.89999998 0.89999998 0.89999998 0.89999998 0.89999998 0.89999998\n",
      " 0.89999998 0.89999998 0.89999998 0.89999998 0.89999998 0.89999998\n",
      " 0.89999998 0.89999998 0.89999998 0.89999998 0.89999998 0.89999998\n",
      " 0.89999998 0.89999998 0.89999998 0.89999998 0.89999998 0.89999998\n",
      " 0.89999998 0.89999998 0.89999998 0.89999998 0.89999998 0.89999998\n",
      " 0.89999998 0.89999998 0.89999998 0.89999998 0.89999998 0.89999998\n",
      " 0.89999998 0.89999998 0.89999998 0.89999998 0.89999998 0.89999998\n",
      " 0.89999998 0.89999998 0.89999998 0.89999998 0.89999998 0.89999998\n",
      " 0.89999998 0.89999998 0.89999998 0.89999998 0.89999998 0.89999998\n",
      " 0.89999998 0.89999998 0.89999998 0.89999998 0.89999998 0.89999998]\n"
     ]
    }
   ],
   "source": [
    "# Import seaborn to make prettier plots\n",
    "\n",
    "import seaborn as sns\n",
    "\n",
    "sns.set(style = 'whitegrid', font_scale = 1.5)\n",
    "print(validation_accuracy_list)"
   ]
  },
  {
   "cell_type": "code",
   "execution_count": 12,
   "id": "7715f4a4",
   "metadata": {},
   "outputs": [
    {
     "data": {
      "image/png": "[encoded data removed]",
      "text/plain": [
       "<Figure size 864x432 with 2 Axes>"
      ]
     },
     "metadata": {},
     "output_type": "display_data"
    }
   ],
   "source": [
    "# Plot training loss and validation accuracy throughout the training epochs\n",
    "\n",
    "plt.figure(figsize = (12, 6))\n",
    "\n",
    "plt.subplot(2, 1, 1)\n",
    "plt.plot(train_loss_list, linewidth = 3)\n",
    "plt.ylabel(\"training loss\")\n",
    "plt.xlabel(\"epochs\")\n",
    "\n",
    "plt.subplot(2, 1, 2)\n",
    "plt.plot(validation_accuracy_list, linewidth = 3, color = 'gold')\n",
    "plt.ylabel(\"validation accuracy\")\n",
    "sns.despine()"
   ]
  },
  {
   "cell_type": "code",
   "execution_count": 13,
   "id": "10e62cad",
   "metadata": {},
   "outputs": [
    {
     "name": "stdout",
     "output_type": "stream",
     "text": [
      "Testing Accuracy: 93.33333373069763%\n"
     ]
    }
   ],
   "source": [
    "with torch.no_grad():\n",
    "    \n",
    "    # Pass the testing feature data (30 samples) to the network to produce model predictions\n",
    "    y_pred_test = model(testing_inputs) \n",
    "    \n",
    "    # Use the same technique as above to commpute the testing classification accuracy\n",
    "    correct = (torch.argmax(y_pred_test, dim=1) == testing_targets).type(torch.FloatTensor)\n",
    "    \n",
    "    print(\"Testing Accuracy: \" + str(correct.mean().numpy()*100) + '%')"
   ]
  },
  {
   "cell_type": "code",
   "execution_count": null,
   "id": "a4720276",
   "metadata": {},
   "outputs": [],
   "source": []
  }
 ],
 "metadata": {
  "kernelspec": {
   "display_name": "Python 3 (ipykernel)",
   "language": "python",
   "name": "python3"
  },
  "language_info": {
   "codemirror_mode": {
    "name": "ipython",
    "version": 3
   },
   "file_extension": ".py",
   "mimetype": "text/x-python",
   "name": "python",
   "nbconvert_exporter": "python",
   "pygments_lexer": "ipython3",
   "version": "3.10.9"
  }
 },
 "nbformat": 4,
 "nbformat_minor": 5
}
