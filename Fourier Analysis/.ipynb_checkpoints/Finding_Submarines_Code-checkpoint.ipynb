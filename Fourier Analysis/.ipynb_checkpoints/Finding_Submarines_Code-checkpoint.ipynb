{
 "cells": [
  {
   "cell_type": "markdown",
   "id": "493b689a",
   "metadata": {},
   "source": [
    "# Finding Submarines\n",
    "\n",
    "### The problem:\n",
    "\n",
    "*An enemy submarine emitting an unknown frequency is known to be traveling in the Puget Sound. The goal is to locate and track the submarine's location precisely over 24 hours by analyzing acoustic pressure data sampled from the Sound.*\n",
    "\n",
    "### The solution:\n",
    "\n",
    "The submarine's frequency signature was identified by applying the Fourier transform method to the signal samples and then examining the time average to find the dominating frequency. Once known, a Gaussian filter was applied to remove non dominating frequencies from the transform to remove noise. The signal was then recovered with the inverse Fourier\n",
    "transform method allowing the submarine’s location to be tracked precisely throughout the\n",
    "24 hour period.\n"
   ]
  },
  {
   "cell_type": "code",
   "execution_count": null,
   "id": "5a3484c9",
   "metadata": {},
   "outputs": [],
   "source": [
    "import numpy as np\n",
    "import matplotlib.pyplot as plt\n",
    "import plotly\n",
    "import plotly.graph_objs as go\n",
    "\n",
    "# Load data and reshape\n",
    "data_path = pooch.retrieve(url=\"doi:10.5281/zenodo.13119547/subdata.npy\", known_hash=None)\n",
    "\n",
    "d = np.load(data_path)\n",
    "N_grid = 64\n",
    "t_scale = 49\n",
    "signal = np.reshape(d, (N_grid, N_grid, N_grid, 49))"
   ]
  },
  {
   "cell_type": "code",
   "execution_count": null,
   "id": "b915f532",
   "metadata": {},
   "outputs": [],
   "source": [
    "# MODIFICATION: for np.fft.fftn in this case we have to specify the axes\n",
    "# we're applying the transform across all three dimensions\n",
    "f_hat_sig = np.fft.fftshift(np.fft.fftn(signal, axes = (0,1,2)))\n",
    "avg_f_hat_sig = np.mean(f_hat_sig, 3)\n",
    "\n",
    "# find the maximum value and its corresponding 3D indices\n",
    "max_index = np.argmax(avg_f_hat_sig)\n",
    "max_indices = np.unravel_index(max_index, avg_f_hat_sig.shape)\n",
    "\n",
    "# this yields the same result as averaging before the fourier transform\n",
    "print(np.max(avg_f_hat_sig))\n",
    "print(max_indices)"
   ]
  },
  {
   "cell_type": "code",
   "execution_count": null,
   "id": "51bfb541",
   "metadata": {},
   "outputs": [],
   "source": [
    "# Set up 3D Grids\n",
    "\n",
    "axis = np.linspace(-N_grid/2, N_grid/2, N_grid)\n",
    "\n",
    "X, Y, Z = np.meshgrid(axis, axis, axis)"
   ]
  },
  {
   "cell_type": "code",
   "execution_count": null,
   "id": "8c1c3966",
   "metadata": {},
   "outputs": [],
   "source": [
    "# When we plot, we see a distinct frequency signature in 3D space\n",
    "\n",
    "dat = avg_f_hat_sig\n",
    "\n",
    "normal_abs_dat = np.abs(dat)/np.abs(dat).max()\n",
    "fig_data = go.Isosurface(x=X.flatten(), y=Y.flatten(), z=Z.flatten(),\n",
    "                        value=normal_abs_dat.flatten(), isomin=0.5, isomax=1)\n",
    "fig = go.Figure(data=fig_data)\n",
    "fig.show()"
   ]
  },
  {
   "cell_type": "code",
   "execution_count": null,
   "id": "db6681f6",
   "metadata": {},
   "outputs": [],
   "source": [
    "# 3D Gaussian Function\n",
    "\n",
    "def gaussian_3d(x, y, z, mu_x, mu_y, mu_z, sigma):\n",
    "    return np.exp(-((x-mu_x)**2 + (y-mu_y)**2 + (z-mu_z)**2) / (sigma**2))"
   ]
  },
  {
   "cell_type": "code",
   "execution_count": null,
   "id": "f5642e9f",
   "metadata": {},
   "outputs": [],
   "source": [
    "# Get Gaussian filter centered over central frequency\n",
    "\n",
    "sigma = 10\n",
    "gauss_filter = gaussian_3d(X, Y, Z, X[max_indices], Y[max_indices], Z[max_indices], sigma)"
   ]
  },
  {
   "cell_type": "code",
   "execution_count": null,
   "id": "ebee0d9c",
   "metadata": {},
   "outputs": [],
   "source": [
    "# Choose a time sample\n",
    "# Fourier transform the sample \n",
    "# Apply filter and go back to signal domain\n",
    "sample = signal[:,:,:,37]\n",
    "f_hat = np.fft.fftshift(np.fft.fftn(sample))\n",
    "clean_signal = np.fft.ifftn(np.fft.ifftshift(f_hat*gauss_filter))"
   ]
  },
  {
   "cell_type": "code",
   "execution_count": null,
   "id": "c74571a7",
   "metadata": {},
   "outputs": [],
   "source": [
    "# Plot the sample\n",
    "\n",
    "dat = gauss_filter\n",
    "\n",
    "normal_abs_dat = np.abs(dat)/np.abs(dat).max()\n",
    "fig_data = go.Isosurface(x=X.flatten(), y=Y.flatten(), z=Z.flatten(),\n",
    "                        value=normal_abs_dat.flatten(), isomin=0.6, isomax=1)\n",
    "fig = go.Figure(data=fig_data)\n",
    "fig.show()"
   ]
  },
  {
   "cell_type": "code",
   "execution_count": null,
   "id": "8ce5b58a",
   "metadata": {},
   "outputs": [],
   "source": [
    "# Get the X,Y coordinates of the submarine at each time sample\n",
    "\n",
    "points = []\n",
    "for t in range(0, t_scale):\n",
    "    # For each sample get X, Y coords of maximum value\n",
    "    s = signal[:,:,:,t]\n",
    "    s_hat = np.fft.fftshift(np.fft.fftn(s))\n",
    "    clean_s = np.fft.ifftn(np.fft.ifftshift(s_hat*gauss_filter))\n",
    "    max_index = np.argmax(clean_s)\n",
    "    max_indices = np.unravel_index(max_index, s_hat.shape)\n",
    "    points.append(max_indices[:-1])\n",
    "\n"
   ]
  },
  {
   "cell_type": "code",
   "execution_count": null,
   "id": "1cf2b188",
   "metadata": {
    "scrolled": true
   },
   "outputs": [],
   "source": [
    "# Plot the submarine's location over time\n",
    "x_list, y_list = zip(*points)\n",
    "\n",
    "# add color bar for clarity\n",
    "t = range(0, 49, 1)\n",
    "\n",
    "plt.scatter(x_list, y_list, c = t, marker='o')\n",
    "plt.xlabel(\"X\")\n",
    "plt.ylabel(\"Y\")\n",
    "plt.xlim(0, 64)\n",
    "plt.ylim(0, 64)\n",
    "plt.locator_params(axis='x', nbins=13)\n",
    "plt.locator_params(axis='y', nbins=13)\n",
    "plt.grid(True)\n",
    "plt.colorbar(label = \"Time Entry\")\n",
    "plt.title(\"X,Y View of Submarine Path\")\n",
    "plt.show()"
   ]
  },
  {
   "cell_type": "code",
   "execution_count": null,
   "id": "3845f1f1",
   "metadata": {},
   "outputs": [],
   "source": [
    "# Plot a 3D view of the Submarine's location for each time frame\n",
    "\n",
    "# import libraries for plotting isosurfaces\n",
    "import plotly\n",
    "import plotly.graph_objs as go\n",
    "# utility for clearing output of cell as loop runs in notebook\n",
    "from IPython.display import clear_output\n",
    "\n",
    "# plot the data in time \n",
    "\n",
    "L = 10; # length of spatial domain (cube of side L = 2*10)\n",
    "N_grid = 64; # number of grid points/Fourier modes in each direction\n",
    "xx = np.linspace(-L, L, N_grid+1) #spatial grid in x dir\n",
    "x = xx[0:N_grid]\n",
    "y = x # same grid in y,z direction\n",
    "z = x\n",
    "\n",
    "K_grid = (2*np.pi/(2*L))*np.linspace(-N_grid/2, N_grid/2 -1, N_grid) # frequency grid for one coordinate\n",
    "\n",
    "xv, yv, zv = np.meshgrid( x, y, z) # generate 3D meshgrid for plotting\n",
    "\n",
    "# plot iso surfaces for every third measurement\n",
    "\n",
    "for j in range(0,49,3):\n",
    "\n",
    "  signal = np.reshape(d[:, j], (N_grid, N_grid, N_grid))\n",
    "  signal = np.fft.fftshift(np.fft.fftn(signal))\n",
    "  signal = np.fft.ifftn(np.fft.ifftshift(signal*gauss_filter))\n",
    "  normal_sig_abs = np.abs(signal)/np.abs(signal).max()\n",
    "\n",
    "  # generate data for isosurface of the 3D data \n",
    "  fig_data = go.Isosurface( x = xv.flatten(), y = yv.flatten(), z = zv.flatten(),\n",
    "                           value = normal_sig_abs.flatten(), isomin=0.7, isomax=0.7)\n",
    "\n",
    "  # generate plots\n",
    "  clear_output(wait=True) # need this to discard previous figs\n",
    "  fig = go.Figure( data = fig_data )\n",
    "  fig.show()\n"
   ]
  },
  {
   "cell_type": "code",
   "execution_count": null,
   "id": "67e80f4a",
   "metadata": {},
   "outputs": [],
   "source": []
  }
 ],
 "metadata": {
  "kernelspec": {
   "display_name": "Python 3 (ipykernel)",
   "language": "python",
   "name": "python3"
  },
  "language_info": {
   "codemirror_mode": {
    "name": "ipython",
    "version": 3
   },
   "file_extension": ".py",
   "mimetype": "text/x-python",
   "name": "python",
   "nbconvert_exporter": "python",
   "pygments_lexer": "ipython3",
   "version": "3.10.9"
  }
 },
 "nbformat": 4,
 "nbformat_minor": 5
}
